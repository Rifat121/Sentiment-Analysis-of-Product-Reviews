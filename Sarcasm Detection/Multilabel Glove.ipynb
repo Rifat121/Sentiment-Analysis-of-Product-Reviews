{
 "cells": [
  {
   "cell_type": "code",
   "execution_count": 1,
   "metadata": {},
   "outputs": [],
   "source": [
    "# Load EDA Pkgs\n",
    "import pandas as pd\n",
    "import numpy as np\n",
    "# Load Data Viz Pkgs\n",
    "import matplotlib.pyplot as plt\n",
    "import seaborn as sns\n",
    "# ML Pkgs\n",
    "from sklearn.linear_model import LogisticRegression\n",
    "from sklearn.neighbors import KNeighborsClassifier\n",
    "from sklearn.tree import DecisionTreeClassifier\n",
    "from sklearn.naive_bayes import GaussianNB,MultinomialNB\n",
    "from sklearn.metrics import accuracy_score,hamming_loss,classification_report\n",
    "\n",
    "### Split Dataset into Train and Text\n",
    "from sklearn.model_selection import train_test_split\n",
    "# Feature engineering\n",
    "from sklearn.feature_extraction.text import TfidfVectorizer\n",
    "# Multi Label Pkgs\n",
    "from skmultilearn.problem_transform import BinaryRelevance\n",
    "from skmultilearn.problem_transform import ClassifierChain\n",
    "from skmultilearn.problem_transform import LabelPowerset\n",
    "from skmultilearn.adapt import MLkNN"
   ]
  },
  {
   "cell_type": "code",
   "execution_count": 2,
   "metadata": {},
   "outputs": [],
   "source": [
    "from sklearn.svm import LinearSVC\n",
    "from sklearn.linear_model import SGDClassifier\n",
    "from sklearn.multiclass import OneVsRestClassifier\n",
    "from keras_preprocessing.text import Tokenizer\n",
    "from keras_preprocessing.sequence import pad_sequences"
   ]
  },
  {
   "cell_type": "code",
   "execution_count": 3,
   "metadata": {},
   "outputs": [],
   "source": [
    "df = pd.read_csv(\"AMAZON sarcasm.csv\", encoding = 'unicode_escape')"
   ]
  },
  {
   "cell_type": "code",
   "execution_count": 383,
   "metadata": {
    "scrolled": false
   },
   "outputs": [
    {
     "data": {
      "text/html": [
       "<div>\n",
       "<style scoped>\n",
       "    .dataframe tbody tr th:only-of-type {\n",
       "        vertical-align: middle;\n",
       "    }\n",
       "\n",
       "    .dataframe tbody tr th {\n",
       "        vertical-align: top;\n",
       "    }\n",
       "\n",
       "    .dataframe thead th {\n",
       "        text-align: right;\n",
       "    }\n",
       "</style>\n",
       "<table border=\"1\" class=\"dataframe\">\n",
       "  <thead>\n",
       "    <tr style=\"text-align: right;\">\n",
       "      <th></th>\n",
       "      <th>title</th>\n",
       "      <th>reviews</th>\n",
       "      <th>rating</th>\n",
       "      <th>sarcastic</th>\n",
       "      <th>positive</th>\n",
       "      <th>negative</th>\n",
       "      <th>neutral</th>\n",
       "      <th>admiration</th>\n",
       "      <th>angry</th>\n",
       "    </tr>\n",
       "  </thead>\n",
       "  <tbody>\n",
       "    <tr>\n",
       "      <th>0</th>\n",
       "      <td>Love It!</td>\n",
       "      <td>We loved the Echo Dot, but the Show is exponen...</td>\n",
       "      <td>5</td>\n",
       "      <td>0</td>\n",
       "      <td>1</td>\n",
       "      <td>0</td>\n",
       "      <td>0</td>\n",
       "      <td>0</td>\n",
       "      <td>0</td>\n",
       "    </tr>\n",
       "    <tr>\n",
       "      <th>1</th>\n",
       "      <td>Crashed after update</td>\n",
       "      <td>My first tablet was a Kindle. I was curious ab...</td>\n",
       "      <td>1</td>\n",
       "      <td>0</td>\n",
       "      <td>0</td>\n",
       "      <td>1</td>\n",
       "      <td>0</td>\n",
       "      <td>0</td>\n",
       "      <td>1</td>\n",
       "    </tr>\n",
       "    <tr>\n",
       "      <th>2</th>\n",
       "      <td>Very versatile</td>\n",
       "      <td>I love this tablet/kindle. I can access email,...</td>\n",
       "      <td>5</td>\n",
       "      <td>0</td>\n",
       "      <td>1</td>\n",
       "      <td>0</td>\n",
       "      <td>0</td>\n",
       "      <td>1</td>\n",
       "      <td>0</td>\n",
       "    </tr>\n",
       "    <tr>\n",
       "      <th>3</th>\n",
       "      <td>Worst batteries ever</td>\n",
       "      <td>Worst batteries ever. After m Duracell's in my...</td>\n",
       "      <td>1</td>\n",
       "      <td>0</td>\n",
       "      <td>0</td>\n",
       "      <td>1</td>\n",
       "      <td>0</td>\n",
       "      <td>0</td>\n",
       "      <td>1</td>\n",
       "    </tr>\n",
       "    <tr>\n",
       "      <th>4</th>\n",
       "      <td>Great product</td>\n",
       "      <td>Best Buy associate explained product very well...</td>\n",
       "      <td>5</td>\n",
       "      <td>0</td>\n",
       "      <td>1</td>\n",
       "      <td>0</td>\n",
       "      <td>0</td>\n",
       "      <td>1</td>\n",
       "      <td>0</td>\n",
       "    </tr>\n",
       "    <tr>\n",
       "      <th>...</th>\n",
       "      <td>...</td>\n",
       "      <td>...</td>\n",
       "      <td>...</td>\n",
       "      <td>...</td>\n",
       "      <td>...</td>\n",
       "      <td>...</td>\n",
       "      <td>...</td>\n",
       "      <td>...</td>\n",
       "      <td>...</td>\n",
       "    </tr>\n",
       "    <tr>\n",
       "      <th>4858</th>\n",
       "      <td>Amazon Fire HD 8 pad</td>\n",
       "      <td>We bought this to replace a Kindle Fire pad an...</td>\n",
       "      <td>4</td>\n",
       "      <td>0</td>\n",
       "      <td>0</td>\n",
       "      <td>0</td>\n",
       "      <td>1</td>\n",
       "      <td>0</td>\n",
       "      <td>0</td>\n",
       "    </tr>\n",
       "    <tr>\n",
       "      <th>4859</th>\n",
       "      <td>Kindle FIRE</td>\n",
       "      <td>Purchased this for my grandson. It works great...</td>\n",
       "      <td>4</td>\n",
       "      <td>0</td>\n",
       "      <td>0</td>\n",
       "      <td>0</td>\n",
       "      <td>1</td>\n",
       "      <td>0</td>\n",
       "      <td>0</td>\n",
       "    </tr>\n",
       "    <tr>\n",
       "      <th>4860</th>\n",
       "      <td>Perfect for the kitchen!</td>\n",
       "      <td>I bought the white version and have it in the ...</td>\n",
       "      <td>4</td>\n",
       "      <td>0</td>\n",
       "      <td>0</td>\n",
       "      <td>0</td>\n",
       "      <td>1</td>\n",
       "      <td>0</td>\n",
       "      <td>0</td>\n",
       "    </tr>\n",
       "    <tr>\n",
       "      <th>4861</th>\n",
       "      <td>One Star</td>\n",
       "      <td>Terrible battery life!!!!</td>\n",
       "      <td>1</td>\n",
       "      <td>0</td>\n",
       "      <td>0</td>\n",
       "      <td>1</td>\n",
       "      <td>0</td>\n",
       "      <td>0</td>\n",
       "      <td>1</td>\n",
       "    </tr>\n",
       "    <tr>\n",
       "      <th>4862</th>\n",
       "      <td>All around great!!</td>\n",
       "      <td>Bought for my kids and they love them!! They l...</td>\n",
       "      <td>4</td>\n",
       "      <td>0</td>\n",
       "      <td>1</td>\n",
       "      <td>0</td>\n",
       "      <td>0</td>\n",
       "      <td>0</td>\n",
       "      <td>0</td>\n",
       "    </tr>\n",
       "  </tbody>\n",
       "</table>\n",
       "<p>4863 rows × 9 columns</p>\n",
       "</div>"
      ],
      "text/plain": [
       "                         title  \\\n",
       "0                     Love It!   \n",
       "1         Crashed after update   \n",
       "2               Very versatile   \n",
       "3         Worst batteries ever   \n",
       "4                Great product   \n",
       "...                        ...   \n",
       "4858      Amazon Fire HD 8 pad   \n",
       "4859               Kindle FIRE   \n",
       "4860  Perfect for the kitchen!   \n",
       "4861                  One Star   \n",
       "4862        All around great!!   \n",
       "\n",
       "                                                reviews  rating  sarcastic  \\\n",
       "0     We loved the Echo Dot, but the Show is exponen...       5          0   \n",
       "1     My first tablet was a Kindle. I was curious ab...       1          0   \n",
       "2     I love this tablet/kindle. I can access email,...       5          0   \n",
       "3     Worst batteries ever. After m Duracell's in my...       1          0   \n",
       "4     Best Buy associate explained product very well...       5          0   \n",
       "...                                                 ...     ...        ...   \n",
       "4858  We bought this to replace a Kindle Fire pad an...       4          0   \n",
       "4859  Purchased this for my grandson. It works great...       4          0   \n",
       "4860  I bought the white version and have it in the ...       4          0   \n",
       "4861                          Terrible battery life!!!!       1          0   \n",
       "4862  Bought for my kids and they love them!! They l...       4          0   \n",
       "\n",
       "      positive  negative  neutral  admiration  angry  \n",
       "0            1         0        0           0      0  \n",
       "1            0         1        0           0      1  \n",
       "2            1         0        0           1      0  \n",
       "3            0         1        0           0      1  \n",
       "4            1         0        0           1      0  \n",
       "...        ...       ...      ...         ...    ...  \n",
       "4858         0         0        1           0      0  \n",
       "4859         0         0        1           0      0  \n",
       "4860         0         0        1           0      0  \n",
       "4861         0         1        0           0      1  \n",
       "4862         1         0        0           0      0  \n",
       "\n",
       "[4863 rows x 9 columns]"
      ]
     },
     "execution_count": 383,
     "metadata": {},
     "output_type": "execute_result"
    }
   ],
   "source": [
    "df.head(-1)"
   ]
  },
  {
   "cell_type": "code",
   "execution_count": 376,
   "metadata": {},
   "outputs": [],
   "source": [
    "columns = ['sarcastic', 'happy', 'sad','neutral', 'admiration', 'angry']"
   ]
  },
  {
   "cell_type": "code",
   "execution_count": 4,
   "metadata": {},
   "outputs": [
    {
     "data": {
      "text/plain": [
       "title         object\n",
       "reviews       object\n",
       "rating         int64\n",
       "sarcastic      int64\n",
       "positive       int64\n",
       "negative       int64\n",
       "neutral        int64\n",
       "admiration     int64\n",
       "angry          int64\n",
       "dtype: object"
      ]
     },
     "execution_count": 4,
     "metadata": {},
     "output_type": "execute_result"
    }
   ],
   "source": [
    "df.dtypes"
   ]
  },
  {
   "cell_type": "code",
   "execution_count": 373,
   "metadata": {},
   "outputs": [],
   "source": [
    "for cl in df.columns:\n",
    "    if(cl not in columns):\n",
    "        continue\n",
    "#     print(df[cl].value_counts())\n",
    "val = [476,2420,1211,1240,926,759]"
   ]
  },
  {
   "cell_type": "code",
   "execution_count": 428,
   "metadata": {},
   "outputs": [],
   "source": [
    "color = ['salmon','orchid','thistle','white','cyan','teal']"
   ]
  },
  {
   "cell_type": "code",
   "execution_count": 429,
   "metadata": {},
   "outputs": [
    {
     "data": {
      "text/plain": [
       "([<matplotlib.patches.Wedge at 0x1cf0cbf0888>,\n",
       "  <matplotlib.patches.Wedge at 0x1cf0cbaaa48>,\n",
       "  <matplotlib.patches.Wedge at 0x1cf0c9dda08>,\n",
       "  <matplotlib.patches.Wedge at 0x1cf0bfb0b48>,\n",
       "  <matplotlib.patches.Wedge at 0x1cf0c9d4fc8>,\n",
       "  <matplotlib.patches.Wedge at 0x1cf0bfc9508>],\n",
       " [Text(2.1504422764144793, 0.4643253340162627, 'sarcastic'),\n",
       "  Text(0.14143489981384694, 2.1954489675496096, 'happy'),\n",
       "  Text(-2.1998153595082814, 0.02850235203365633, 'sad'),\n",
       "  Text(-1.0329532299747073, -1.942423132246118, 'neutral'),\n",
       "  Text(1.0138121445067954, -1.9524817375971877, 'admiration'),\n",
       "  Text(2.0747283025203767, -0.7317803432184536, 'angry')],\n",
       " [Text(1.1729685144078976, 0.25326836400887054, '6.77%'),\n",
       "  Text(0.07714630898937104, 1.1975176186634233, '34.41%'),\n",
       "  Text(-1.199899287004517, 0.01554673747290345, '17.22%'),\n",
       "  Text(-0.5634290345316585, -1.0595035266797006, '17.63%'),\n",
       "  Text(0.552988442458252, -1.064990038689375, '13.17%'),\n",
       "  Text(1.1316699831929324, -0.39915291448279283, '10.79%')])"
      ]
     },
     "execution_count": 429,
     "metadata": {},
     "output_type": "execute_result"
    },
    {
     "data": {
      "image/png": "[encoded data removed]",
      "text/plain": [
       "<Figure size 432x288 with 1 Axes>"
      ]
     },
     "metadata": {},
     "output_type": "display_data"
    }
   ],
   "source": [
    "plt.pie(x=val,labels = columns,radius = 2,autopct= \"%0.2f%%\",shadow = True, colors=color)\n",
    "# plt.save_fig(\"Dataset.png\")"
   ]
  },
  {
   "cell_type": "code",
   "execution_count": 382,
   "metadata": {},
   "outputs": [
    {
     "data": {
      "text/plain": [
       "<matplotlib.axes._subplots.AxesSubplot at 0x1cf0c6f6288>"
      ]
     },
     "execution_count": 382,
     "metadata": {},
     "output_type": "execute_result"
    },
    {
     "data": {
      "image/png": "[encoded data removed]",
      "text/plain": [
       "<Figure size 432x288 with 1 Axes>"
      ]
     },
     "metadata": {
      "needs_background": "light"
     },
     "output_type": "display_data"
    }
   ],
   "source": [
    "sns.countplot(df['admiration'])"
   ]
  },
  {
   "cell_type": "code",
   "execution_count": 177,
   "metadata": {},
   "outputs": [],
   "source": [
    "df = df.sample(4863)"
   ]
  },
  {
   "cell_type": "raw",
   "metadata": {},
   "source": [
    "import neattext as nt\n",
    "import neattext.functions as nfx\n",
    "# Explore For Noise\n",
    "df['reviews'].apply(lambda x:nt.TextFrame(x).noise_scan())\n",
    "# Explore For Noise\n",
    "df['reviews'].apply(lambda x:nt.TextExtractor(x).extract_stopwords())"
   ]
  },
  {
   "cell_type": "code",
   "execution_count": 4,
   "metadata": {},
   "outputs": [],
   "source": [
    "def tokenize(review):\n",
    "    ret_str = ''\n",
    "    review = review.split()\n",
    "    for r in review:\n",
    "        if lemmetiz(r) not in stopwords:\n",
    "            ret_str +=lemmetiz(r)\n",
    "            ret_str +=' '\n",
    "    return ret_str"
   ]
  },
  {
   "cell_type": "code",
   "execution_count": 5,
   "metadata": {},
   "outputs": [],
   "source": [
    "import string\n",
    "import regex as re\n",
    "def clean_text(text):\n",
    "    pattern = re.compile('http[s]?://(?:[a-zA-Z]|[0-9]|[$-_@.&+]|[!*\\(\\),]|(?:%[0-9a-fA-F][0-9a-fA-F]))+')\n",
    "    text = pattern.sub('', text)\n",
    "    text = text.lower()\n",
    "    text = re.sub(r\"i'm\", \"i am\", text)\n",
    "    text = re.sub(r\"he's\", \"he is\", text)\n",
    "    text = re.sub(r\"she's\", \"she is\", text)\n",
    "    text = re.sub(r\"that's\", \"that is\", text)        \n",
    "    text = re.sub(r\"what's\", \"what is\", text)\n",
    "    text = re.sub(r\"where's\", \"where is\", text) \n",
    "    text = re.sub(r\"\\'ll\", \" will\", text)  \n",
    "    text = re.sub(r\"\\'ve\", \" have\", text)  \n",
    "    text = re.sub(r\"\\'re\", \" are\", text)\n",
    "    text = re.sub(r\"\\'d\", \" would\", text)\n",
    "    text = re.sub(r\"\\'ve\", \" have\", text)\n",
    "    text = re.sub(r\"won't\", \"will not\", text)\n",
    "    text = re.sub(r\"don't\", \"do not\", text)\n",
    "    text = re.sub(r\"doesn't\", \"does not\", text)\n",
    "    text = re.sub(r\"did't\", \"did not\", text)\n",
    "    text = re.sub(r\"can't\", \"can not\", text)\n",
    "    text = re.sub(r\"it's\", \"it is\", text)\n",
    "    text = re.sub(r\"couldn't\", \"could not\", text)\n",
    "    text = re.sub(r\"have't\", \"have not\", text)\n",
    "    text = re.sub(r\"[,\\\"\\'!@#$%^*(){}?/;`~:<>+=-]\", \" \", text)\n",
    "    text = re.sub(r\"\\n\", \"\", text)\n",
    "    text = re.sub(r\"&\", \"and\", text)\n",
    "    return text"
   ]
  },
  {
   "cell_type": "code",
   "execution_count": 6,
   "metadata": {},
   "outputs": [],
   "source": [
    "reviews = []\n",
    "for review in df['reviews']:\n",
    "    a = clean_text(review)\n",
    "#     a = tokenize(a)\n",
    "    reviews.append(a)"
   ]
  },
  {
   "cell_type": "code",
   "execution_count": 15,
   "metadata": {},
   "outputs": [],
   "source": [
    "from nltk.corpus import stopwords,wordnet\n",
    "from nltk.stem import WordNetLemmatizer\n",
    "\n",
    "stopwords = set(stopwords.words('english'))\n",
    "wordnet_lemmatizer = WordNetLemmatizer()\n",
    "\n",
    "rem = ['not', 'ain', 'aren', \"aren't\", 'couldn', \"couldn't\", 'didn', \"didn't\", 'doesn', \"doesn't\", 'hadn', \"hadn't\", 'hasn', \n",
    "       \"hasn't\", 'haven', \"haven't\", 'isn', \"isn't\", 'ma', 'mightn', \"mightn't\", 'mustn', \"mustn't\", 'needn', \"needn't\", 'shan', \n",
    "       \"shan't\", 'shouldn', \"shouldn't\", 'wasn', \"wasn't\", 'weren', \"weren't\", 'won', \"won't\", 'wouldn', \"wouldn't\", 'don', \"don't\", \n",
    "       'just', 'too', 'very', 'no', 'nor', 'only', 'own', 'same', 'again', 'against', 'but',]\n",
    "for s in rem:\n",
    "    stopwords.remove(s)"
   ]
  },
  {
   "cell_type": "code",
   "execution_count": 14,
   "metadata": {},
   "outputs": [],
   "source": [
    "def lemmetiz(word):\n",
    "    lem = wordnet_lemmatizer.lemmatize(word,'v')\n",
    "    return lem"
   ]
  },
  {
   "cell_type": "code",
   "execution_count": null,
   "metadata": {},
   "outputs": [],
   "source": []
  },
  {
   "cell_type": "code",
   "execution_count": 9,
   "metadata": {},
   "outputs": [
    {
     "name": "stdout",
     "output_type": "stream",
     "text": [
      "Found 1917494 word vectors.\n"
     ]
    }
   ],
   "source": [
    "import os\n",
    "\n",
    "embeddings_index = {}\n",
    "GLOVE_DIR = \"C:/Users/Rif010/Desktop/Rian vai try/\"\n",
    "f = open(os.path.join(GLOVE_DIR, 'glove.42B.300d.txt'), encoding = \"utf-8\")\n",
    "for line in f:\n",
    "    values = line.split()\n",
    "    word = values[0]\n",
    "    coefs = np.asarray(values[1:], dtype='float32')\n",
    "    embeddings_index[word] = coefs\n",
    "f.close()\n",
    "\n",
    "print('Found %s word vectors.' % len(embeddings_index))"
   ]
  },
  {
   "cell_type": "raw",
   "metadata": {},
   "source": []
  },
  {
   "cell_type": "code",
   "execution_count": 8,
   "metadata": {},
   "outputs": [],
   "source": [
    "y = df[['sarcastic', 'happy', 'sad','neutral', 'admiration', 'angry']]"
   ]
  },
  {
   "cell_type": "code",
   "execution_count": 27,
   "metadata": {},
   "outputs": [],
   "source": [
    "from sklearn.feature_extraction.text import TfidfVectorizer\n",
    "\n",
    "tfidf = TfidfVectorizer(analyzer='word', max_features = 150, ngram_range=(1,3))\n",
    "\n",
    "Xfeatures = tfidf.fit_transform(reviews)\n"
   ]
  },
  {
   "cell_type": "code",
   "execution_count": 12,
   "metadata": {},
   "outputs": [
    {
     "data": {
      "text/plain": [
       "(4864, 50)"
      ]
     },
     "execution_count": 12,
     "metadata": {},
     "output_type": "execute_result"
    }
   ],
   "source": [
    "Xfeatures.shape"
   ]
  },
  {
   "cell_type": "code",
   "execution_count": 16,
   "metadata": {},
   "outputs": [
    {
     "data": {
      "text/html": [
       "<div>\n",
       "<style scoped>\n",
       "    .dataframe tbody tr th:only-of-type {\n",
       "        vertical-align: middle;\n",
       "    }\n",
       "\n",
       "    .dataframe tbody tr th {\n",
       "        vertical-align: top;\n",
       "    }\n",
       "\n",
       "    .dataframe thead th {\n",
       "        text-align: right;\n",
       "    }\n",
       "</style>\n",
       "<table border=\"1\" class=\"dataframe\">\n",
       "  <thead>\n",
       "    <tr style=\"text-align: right;\">\n",
       "      <th></th>\n",
       "      <th>sarcastic</th>\n",
       "      <th>happy</th>\n",
       "      <th>sad</th>\n",
       "      <th>neutral</th>\n",
       "      <th>admiration</th>\n",
       "      <th>angry</th>\n",
       "    </tr>\n",
       "  </thead>\n",
       "  <tbody>\n",
       "    <tr>\n",
       "      <th>2926</th>\n",
       "      <td>0</td>\n",
       "      <td>1</td>\n",
       "      <td>0</td>\n",
       "      <td>0</td>\n",
       "      <td>0</td>\n",
       "      <td>0</td>\n",
       "    </tr>\n",
       "    <tr>\n",
       "      <th>88</th>\n",
       "      <td>0</td>\n",
       "      <td>0</td>\n",
       "      <td>0</td>\n",
       "      <td>1</td>\n",
       "      <td>0</td>\n",
       "      <td>0</td>\n",
       "    </tr>\n",
       "    <tr>\n",
       "      <th>3857</th>\n",
       "      <td>0</td>\n",
       "      <td>1</td>\n",
       "      <td>0</td>\n",
       "      <td>0</td>\n",
       "      <td>1</td>\n",
       "      <td>0</td>\n",
       "    </tr>\n",
       "    <tr>\n",
       "      <th>4673</th>\n",
       "      <td>0</td>\n",
       "      <td>0</td>\n",
       "      <td>0</td>\n",
       "      <td>1</td>\n",
       "      <td>0</td>\n",
       "      <td>0</td>\n",
       "    </tr>\n",
       "    <tr>\n",
       "      <th>2154</th>\n",
       "      <td>0</td>\n",
       "      <td>0</td>\n",
       "      <td>0</td>\n",
       "      <td>1</td>\n",
       "      <td>0</td>\n",
       "      <td>0</td>\n",
       "    </tr>\n",
       "    <tr>\n",
       "      <th>...</th>\n",
       "      <td>...</td>\n",
       "      <td>...</td>\n",
       "      <td>...</td>\n",
       "      <td>...</td>\n",
       "      <td>...</td>\n",
       "      <td>...</td>\n",
       "    </tr>\n",
       "    <tr>\n",
       "      <th>4859</th>\n",
       "      <td>0</td>\n",
       "      <td>0</td>\n",
       "      <td>0</td>\n",
       "      <td>1</td>\n",
       "      <td>0</td>\n",
       "      <td>0</td>\n",
       "    </tr>\n",
       "    <tr>\n",
       "      <th>3264</th>\n",
       "      <td>0</td>\n",
       "      <td>1</td>\n",
       "      <td>0</td>\n",
       "      <td>0</td>\n",
       "      <td>0</td>\n",
       "      <td>0</td>\n",
       "    </tr>\n",
       "    <tr>\n",
       "      <th>1653</th>\n",
       "      <td>0</td>\n",
       "      <td>1</td>\n",
       "      <td>0</td>\n",
       "      <td>0</td>\n",
       "      <td>0</td>\n",
       "      <td>0</td>\n",
       "    </tr>\n",
       "    <tr>\n",
       "      <th>2607</th>\n",
       "      <td>0</td>\n",
       "      <td>1</td>\n",
       "      <td>0</td>\n",
       "      <td>0</td>\n",
       "      <td>1</td>\n",
       "      <td>0</td>\n",
       "    </tr>\n",
       "    <tr>\n",
       "      <th>2732</th>\n",
       "      <td>0</td>\n",
       "      <td>0</td>\n",
       "      <td>1</td>\n",
       "      <td>0</td>\n",
       "      <td>0</td>\n",
       "      <td>1</td>\n",
       "    </tr>\n",
       "  </tbody>\n",
       "</table>\n",
       "<p>3891 rows × 6 columns</p>\n",
       "</div>"
      ],
      "text/plain": [
       "      sarcastic  happy  sad  neutral  admiration  angry\n",
       "2926          0      1    0        0           0      0\n",
       "88            0      0    0        1           0      0\n",
       "3857          0      1    0        0           1      0\n",
       "4673          0      0    0        1           0      0\n",
       "2154          0      0    0        1           0      0\n",
       "...         ...    ...  ...      ...         ...    ...\n",
       "4859          0      0    0        1           0      0\n",
       "3264          0      1    0        0           0      0\n",
       "1653          0      1    0        0           0      0\n",
       "2607          0      1    0        0           1      0\n",
       "2732          0      0    1        0           0      1\n",
       "\n",
       "[3891 rows x 6 columns]"
      ]
     },
     "execution_count": 16,
     "metadata": {},
     "output_type": "execute_result"
    }
   ],
   "source": [
    "y_train"
   ]
  },
  {
   "cell_type": "code",
   "execution_count": 28,
   "metadata": {},
   "outputs": [],
   "source": [
    "# Split Data \n",
    "X_train,X_test,y_train,y_test = train_test_split(Xfeatures,y,test_size=0.20,random_state=0)"
   ]
  },
  {
   "cell_type": "code",
   "execution_count": 15,
   "metadata": {},
   "outputs": [
    {
     "data": {
      "text/plain": [
       "(3891, 50)"
      ]
     },
     "execution_count": 15,
     "metadata": {},
     "output_type": "execute_result"
    }
   ],
   "source": [
    "X_train.shape"
   ]
  },
  {
   "cell_type": "code",
   "execution_count": null,
   "metadata": {},
   "outputs": [],
   "source": [
    "#Model"
   ]
  },
  {
   "cell_type": "code",
   "execution_count": 20,
   "metadata": {},
   "outputs": [],
   "source": [
    "sgd = SGDClassifier() #loss='log',penalty='l1',alpha=0.0002\n",
    "lr  = LogisticRegression(solver='lbfgs') # solvers-- ['liblinear', 'newton-cg', 'lbfgs', 'sag', 'saga']\n",
    "svc = LinearSVC()#C=1.5, penalty='l2',loss='hinge', dual= True ,class_weight='balanced'\n",
    "rf  = RandomForestClassifier() #n_estimators=100,criterion=\"entropy\",max_features='sqrt',,,criterion=\"gini,entropy,log_loss\",max_features=log2,sqrt, class_weight=\"balanced,balanced_subsample\"\n",
    "nb  = MultinomialNB()\n",
    "dt  = DecisionTreeClassifier()"
   ]
  },
  {
   "cell_type": "code",
   "execution_count": 21,
   "metadata": {},
   "outputs": [],
   "source": [
    "clf_list = [sgd,lr,svc,rf,nb,dt]\n"
   ]
  },
  {
   "cell_type": "code",
   "execution_count": 22,
   "metadata": {},
   "outputs": [],
   "source": [
    "def j_score(y_test,y_pred):\n",
    "    jaccard = np.minimum(y_test,y_pred).sum(axis=1)/np.maximum(y_test,y_pred).sum(axis=1)\n",
    "    return jaccard.mean()\n",
    "    \n",
    "def print_score(y_pred,clf):\n",
    "    print(\"Classifier: \",clf.__class__.__name__)\n",
    "    print(\"  Jaccard Score: {:.2f}\\n\".format(j_score(y_test,y_pred)))"
   ]
  },
  {
   "cell_type": "code",
   "execution_count": 29,
   "metadata": {},
   "outputs": [
    {
     "name": "stdout",
     "output_type": "stream",
     "text": [
      "Classifier:  SGDClassifier\n",
      "  Jaccard Score: 0.51\n",
      "\n",
      "Classifier:  LogisticRegression\n",
      "  Jaccard Score: 0.54\n",
      "\n",
      "Classifier:  LinearSVC\n",
      "  Jaccard Score: 0.56\n",
      "\n",
      "Classifier:  RandomForestClassifier\n",
      "  Jaccard Score: 0.56\n",
      "\n",
      "Classifier:  MultinomialNB\n",
      "  Jaccard Score: 0.45\n",
      "\n",
      "Classifier:  DecisionTreeClassifier\n",
      "  Jaccard Score: 0.55\n",
      "\n"
     ]
    }
   ],
   "source": [
    "clf_list = [sgd,lr,svc,rf,nb,dt]\n",
    "for c in clf_list:\n",
    "    clf = OneVsRestClassifier(c)\n",
    "    clf.fit(X_train,y_train)\n",
    "    y_pred = clf.predict(X_test)\n",
    "    print_score(y_pred,c)"
   ]
  },
  {
   "cell_type": "code",
   "execution_count": 136,
   "metadata": {},
   "outputs": [
    {
     "name": "stdout",
     "output_type": "stream",
     "text": [
      "Classifier:  SGDClassifier\n",
      "  Jaccard Score: 0.65\n",
      "\n",
      "Classifier:  LogisticRegression\n",
      "  Jaccard Score: 0.52\n",
      "\n",
      "Classifier:  LinearSVC\n",
      "  Jaccard Score: 0.65\n",
      "\n",
      "Classifier:  RandomForestClassifier\n",
      "  Jaccard Score: 0.59\n",
      "\n",
      "Classifier:  MultinomialNB\n",
      "  Jaccard Score: 0.54\n",
      "\n",
      "Classifier:  DecisionTreeClassifier\n",
      "  Jaccard Score: 0.56\n",
      "\n"
     ]
    }
   ],
   "source": [
    "#for ngram - 1,3 \n",
    "\n",
    "for c in clf_list:\n",
    "    clf = OneVsRestClassifier(c)\n",
    "    clf.fit(X_train,y_train)\n",
    "    y_pred = clf.predict(X_test)\n",
    "    print_score(y_pred,c)"
   ]
  },
  {
   "cell_type": "code",
   "execution_count": 110,
   "metadata": {},
   "outputs": [
    {
     "name": "stdout",
     "output_type": "stream",
     "text": [
      "Classifier:  SGDClassifier\n",
      "  Jaccard Score: 0.54\n",
      "\n",
      "Classifier:  LogisticRegression\n",
      "  Jaccard Score: 0.54\n",
      "\n",
      "Classifier:  LinearSVC\n",
      "  Jaccard Score: 0.67\n",
      "\n",
      "Classifier:  RandomForestClassifier\n",
      "  Jaccard Score: 0.59\n",
      "\n",
      "Classifier:  MultinomialNB\n",
      "  Jaccard Score: 0.54\n",
      "\n",
      "Classifier:  DecisionTreeClassifier\n",
      "  Jaccard Score: 0.58\n",
      "\n"
     ]
    }
   ],
   "source": [
    "#lr-lbgfs, rf max-sqrt\n",
    "\n",
    "for c in clf_list:\n",
    "    clf = OneVsRestClassifier(c)\n",
    "    clf.fit(X_train,y_train)\n",
    "    y_pred = clf.predict(X_test)\n",
    "    print_score(y_pred,c)"
   ]
  },
  {
   "cell_type": "code",
   "execution_count": 128,
   "metadata": {},
   "outputs": [
    {
     "name": "stdout",
     "output_type": "stream",
     "text": [
      "Classifier:  SGDClassifier\n",
      "  Jaccard Score: 0.65\n",
      "\n",
      "Classifier:  LogisticRegression\n",
      "  Jaccard Score: 0.52\n",
      "\n",
      "Classifier:  LinearSVC\n",
      "  Jaccard Score: 0.65\n",
      "\n",
      "Classifier:  RandomForestClassifier\n",
      "  Jaccard Score: 0.58\n",
      "\n",
      "Classifier:  MultinomialNB\n",
      "  Jaccard Score: 0.54\n",
      "\n",
      "Classifier:  DecisionTreeClassifier\n",
      "  Jaccard Score: 0.57\n",
      "\n"
     ]
    }
   ],
   "source": [
    "#default+ ngram=1,2\n",
    "for c in clf_list:\n",
    "    clf = OneVsRestClassifier(c)\n",
    "    clf.fit(X_train,y_train)\n",
    "    y_pred = clf.predict(X_test)\n",
    "    print_score(y_pred,c)"
   ]
  },
  {
   "cell_type": "code",
   "execution_count": 271,
   "metadata": {},
   "outputs": [],
   "source": [
    " def sentiment(a):\n",
    "        p = []\n",
    "        y=['sarcastic', 'happy', 'sad', 'neutral', 'admiration', 'angry']\n",
    "        c = 0\n",
    "        for i in range(5+1):\n",
    "            if a[0][i]== 1:\n",
    "                p.append(y[c])\n",
    "            c +=1\n",
    "        return p\n",
    "        "
   ]
  },
  {
   "cell_type": "code",
   "execution_count": 448,
   "metadata": {},
   "outputs": [
    {
     "data": {
      "text/plain": [
       "<973x6 sparse matrix of type '<class 'numpy.int64'>'\n",
       "\twith 1360 stored elements in LInked List format>"
      ]
     },
     "execution_count": 448,
     "metadata": {},
     "output_type": "execute_result"
    }
   ],
   "source": [
    "# s = OneVsRestClassifier(svc)\n",
    "# s.fit(X_train,y_train)\n",
    "# y_pred = clf.predict(X_test)\n",
    "# print_score(y_pred,s)\n",
    "y_pred"
   ]
  },
  {
   "cell_type": "code",
   "execution_count": 450,
   "metadata": {},
   "outputs": [
    {
     "data": {
      "text/plain": [
       "['sarcastic', 'happy', 'sad', 'neutral', 'admiration', 'angry']"
      ]
     },
     "execution_count": 450,
     "metadata": {},
     "output_type": "execute_result"
    }
   ],
   "source": [
    "from sklearn.metrics import classification_report\n",
    "\n",
    "output_label = ['sarcastic', 'happy', 'sad','neutral', 'admiration', 'angry']\n",
    "i=0\n",
    "output_label\n",
    "# for label in output_label:\n",
    "#     print(label,multilabel_confusion_matrix(y_test,y_pred)[i],)\n",
    "#     print(\"\\n\")\n",
    "#     i+=1\n"
   ]
  },
  {
   "cell_type": "code",
   "execution_count": 272,
   "metadata": {},
   "outputs": [
    {
     "name": "stdout",
     "output_type": "stream",
     "text": [
      "['happy', 'admiration']\n"
     ]
    }
   ],
   "source": [
    "# s = OneVsRestClassifier(svc)\n",
    "r = 'The product was excellent'\n",
    "print(sentiment(s.predict(tfidf.transform([r]))))"
   ]
  },
  {
   "cell_type": "code",
   "execution_count": 273,
   "metadata": {},
   "outputs": [
    {
     "name": "stdout",
     "output_type": "stream",
     "text": [
      "['sad', 'angry']\n"
     ]
    }
   ],
   "source": [
    "r = 'Service was ridiculuos'\n",
    "res = s.predict(tfidf.transform([r]))\n",
    "print(sentiment(res))"
   ]
  },
  {
   "cell_type": "code",
   "execution_count": 274,
   "metadata": {},
   "outputs": [
    {
     "name": "stdout",
     "output_type": "stream",
     "text": [
      "['happy']\n"
     ]
    }
   ],
   "source": [
    "r = 'The price of the product is a steal'\n",
    "res = s.predict(tfidf.transform([r]))\n",
    "print(sentiment(res))"
   ]
  },
  {
   "cell_type": "code",
   "execution_count": 275,
   "metadata": {},
   "outputs": [
    {
     "name": "stdout",
     "output_type": "stream",
     "text": [
      "['sarcastic', 'neutral']\n"
     ]
    }
   ],
   "source": [
    "r = 'A woman needs a man like a fish needs bicycle'\n",
    "res = s.predict(tfidf.transform([r]))\n",
    "print(sentiment(res))"
   ]
  },
  {
   "cell_type": "code",
   "execution_count": 261,
   "metadata": {},
   "outputs": [
    {
     "name": "stdout",
     "output_type": "stream",
     "text": [
      "['neutral']\n"
     ]
    }
   ],
   "source": [
    "r = 'the product is not so good'\n",
    "res = s.predict(tfidf.transform([r]))\n",
    "print(sentiment(res))"
   ]
  },
  {
   "cell_type": "code",
   "execution_count": 276,
   "metadata": {},
   "outputs": [
    {
     "name": "stdout",
     "output_type": "stream",
     "text": [
      "['sad', 'angry']\n"
     ]
    }
   ],
   "source": [
    "r = 'none of batteries i opened worked fine.'\n",
    "res = s.predict(tfidf.transform([r]))\n",
    "print(sentiment(res))"
   ]
  },
  {
   "cell_type": "code",
   "execution_count": 277,
   "metadata": {},
   "outputs": [
    {
     "name": "stdout",
     "output_type": "stream",
     "text": [
      "['happy']\n"
     ]
    }
   ],
   "source": [
    "#Fail\n",
    "r = 'This was my second kindle and I did not realize that it was not paper white . What a difference..'\n",
    "res = s.predict(tfidf.transform([r]))\n",
    "print(sentiment(res))"
   ]
  },
  {
   "cell_type": "code",
   "execution_count": 278,
   "metadata": {},
   "outputs": [
    {
     "name": "stdout",
     "output_type": "stream",
     "text": [
      "['sad', 'angry']\n"
     ]
    }
   ],
   "source": [
    "r = 'these have caused every fire alarm in the house to sound within days of installing these batteries.'\n",
    "res = s.predict(tfidf.transform([r]))\n",
    "print(sentiment(res))"
   ]
  },
  {
   "cell_type": "code",
   "execution_count": 282,
   "metadata": {},
   "outputs": [
    {
     "name": "stdout",
     "output_type": "stream",
     "text": [
      "['sad']\n"
     ]
    }
   ],
   "source": [
    "#fail\n",
    "r = 'i will consider buying frequently from them'\n",
    "res = s.predict(tfidf.transform([r]))\n",
    "print(sentiment(res))'we are in love with your negative reviews'"
   ]
  },
  {
   "cell_type": "code",
   "execution_count": 355,
   "metadata": {},
   "outputs": [
    {
     "name": "stdout",
     "output_type": "stream",
     "text": [
      "['happy']\n"
     ]
    }
   ],
   "source": [
    "#fail\n",
    "r = 'we are in love with your negative reviews'\n",
    "res = s.predict(tfidf.transform([r]))\n",
    "print(sentiment(res))"
   ]
  },
  {
   "cell_type": "code",
   "execution_count": 430,
   "metadata": {},
   "outputs": [
    {
     "name": "stdout",
     "output_type": "stream",
     "text": [
      "['sarcastic']\n"
     ]
    }
   ],
   "source": [
    "r = 'with a sense of humour like that,you could make a living as a garbage man anywhere in the country'\n",
    "res = s.predict(tfidf.transform([r]))\n",
    "print(sentiment(res))"
   ]
  },
  {
   "cell_type": "markdown",
   "metadata": {},
   "source": [
    "# Binary Relevence"
   ]
  },
  {
   "cell_type": "code",
   "execution_count": 283,
   "metadata": {},
   "outputs": [],
   "source": [
    "\n",
    "binary_rel_clf = BinaryRelevance(MultinomialNB())\n",
    "binary_rel_clf.fit(X_train,y_train)\n",
    "\n",
    "br_prediction = binary_rel_clf.predict(X_test)\n"
   ]
  },
  {
   "cell_type": "code",
   "execution_count": 284,
   "metadata": {},
   "outputs": [],
   "source": [
    "br_prediction = br_prediction.toarray()"
   ]
  },
  {
   "cell_type": "code",
   "execution_count": 291,
   "metadata": {},
   "outputs": [
    {
     "name": "stdout",
     "output_type": "stream",
     "text": [
      "Accuracy\t 0.4090441932168551\n",
      "Hamming-Loss\t 0.1408016443987667\n"
     ]
    }
   ],
   "source": [
    "# Accuracy\n",
    "print(\"Accuracy\\t\",accuracy_score(y_test,br_prediction))\n",
    "print(\"Hamming-Loss\\t\",hamming_loss(y_test,br_prediction))\n"
   ]
  },
  {
   "cell_type": "code",
   "execution_count": null,
   "metadata": {},
   "outputs": [],
   "source": [
    "\n"
   ]
  },
  {
   "cell_type": "code",
   "execution_count": 312,
   "metadata": {},
   "outputs": [],
   "source": []
  },
  {
   "cell_type": "code",
   "execution_count": 313,
   "metadata": {},
   "outputs": [],
   "source": []
  },
  {
   "cell_type": "code",
   "execution_count": 292,
   "metadata": {},
   "outputs": [],
   "source": [
    "#gaussian NB\n",
    "from sklearn.naive_bayes import GaussianNB\n",
    "\n",
    "gnb = BinaryRelevance(GaussianNB())\n",
    "gnb.fit(X_train,y_train)\n",
    "y_pred = gnb.predict(X_test)"
   ]
  },
  {
   "cell_type": "code",
   "execution_count": 295,
   "metadata": {},
   "outputs": [
    {
     "name": "stdout",
     "output_type": "stream",
     "text": [
      "Accuracy\t 0.4265159301130524\n",
      "Ham-loss\t 0.16735183281945873\n"
     ]
    }
   ],
   "source": [
    "#accuracy for gauss \n",
    "print(\"Accuracy\\t\",accuracy_score(y_test,y_pred))\n",
    "print(\"Ham-loss\\t\",hamming_loss(y_test,y_pred))"
   ]
  },
  {
   "cell_type": "markdown",
   "metadata": {},
   "source": [
    "# Random Forest"
   ]
  },
  {
   "cell_type": "code",
   "execution_count": 19,
   "metadata": {},
   "outputs": [],
   "source": [
    "from sklearn.ensemble import RandomForestClassifier\n",
    "# clf = BinaryRelevance(RandomForestClassifier(n_estimators=100))\n",
    "# clf.fit(X_train,y_train)\n",
    "# y_pred = clf.predict(X_test)"
   ]
  },
  {
   "cell_type": "code",
   "execution_count": 298,
   "metadata": {},
   "outputs": [
    {
     "name": "stdout",
     "output_type": "stream",
     "text": [
      "Accuracy\t 0.47173689619732784\n",
      "Hamm-loss\t 0.12966769441589585\n"
     ]
    }
   ],
   "source": [
    "print(\"Accuracy\\t\",accuracy_score(y_test,y_pred))\n",
    "print(\"Hamm-loss\\t\",hamming_loss(y_test,y_pred))"
   ]
  },
  {
   "cell_type": "code",
   "execution_count": 437,
   "metadata": {},
   "outputs": [],
   "source": [
    "from sklearn.metrics import multilabel_confusion_matrix, precision_score\n",
    "\n",
    "# multilabel_confusion_matrix(y_test,br_prediction)\n",
    "\n"
   ]
  },
  {
   "cell_type": "code",
   "execution_count": 292,
   "metadata": {
    "scrolled": false
   },
   "outputs": [
    {
     "data": {
      "text/plain": [
       "array([1.        , 0.72631579, 0.91743119, 0.71428571, 0.        ,\n",
       "       0.8125    ])"
      ]
     },
     "execution_count": 292,
     "metadata": {},
     "output_type": "execute_result"
    }
   ],
   "source": [
    "precision_score(y_test,br_prediction, average= None)"
   ]
  },
  {
   "cell_type": "code",
   "execution_count": 293,
   "metadata": {
    "collapsed": true
   },
   "outputs": [
    {
     "name": "stdout",
     "output_type": "stream",
     "text": [
      "micro: 0.76\n",
      "macro: 0.70\n",
      "weighted: 0.68\n",
      "samples: 0.62\n"
     ]
    },
    {
     "name": "stderr",
     "output_type": "stream",
     "text": [
      "C:\\Users\\Rif010\\Anaconda3\\lib\\site-packages\\sklearn\\metrics\\_classification.py:1318: UndefinedMetricWarning: Precision is ill-defined and being set to 0.0 in samples with no predicted labels. Use `zero_division` parameter to control this behavior.\n",
      "  _warn_prf(average, modifier, msg_start, len(result))\n"
     ]
    }
   ],
   "source": [
    "print(\"micro: {:.2f}\".format(precision_score(y_test,br_prediction, average= 'micro')))\n",
    "print(\"macro: {:.2f}\".format(precision_score(y_test,br_prediction, average= 'macro')))\n",
    "print(\"weighted: {:.2f}\".format(precision_score(y_test,br_prediction, average= 'weighted')))\n",
    "print(\"samples: {:.2f}\".format(precision_score(y_test,br_prediction, average= 'samples')))"
   ]
  },
  {
   "cell_type": "code",
   "execution_count": 294,
   "metadata": {
    "collapsed": true
   },
   "outputs": [
    {
     "name": "stdout",
     "output_type": "stream",
     "text": [
      "micro: 0.49\n",
      "macro: 0.40\n",
      "weighted: 0.48\n",
      "samples: 0.62\n"
     ]
    }
   ],
   "source": [
    "from sklearn import metrics\n",
    "\n",
    "print(\"micro: {:.2f}\".format(metrics.average_precision_score(y_test,br_prediction, average= 'micro')))\n",
    "print(\"macro: {:.2f}\".format(metrics.average_precision_score(y_test,br_prediction, average= 'macro')))\n",
    "print(\"weighted: {:.2f}\".format(metrics.average_precision_score(y_test,br_prediction, average= 'weighted')))\n",
    "print(\"samples: {:.2f}\".format(metrics.average_precision_score(y_test,br_prediction, average= 'samples')))\n"
   ]
  },
  {
   "cell_type": "code",
   "execution_count": 295,
   "metadata": {},
   "outputs": [
    {
     "name": "stdout",
     "output_type": "stream",
     "text": [
      "              precision    recall  f1-score   support\n",
      "\n",
      "   sarcastic       1.00      0.08      0.15        72\n",
      "    positive       0.73      0.93      0.82       369\n",
      "    negative       0.92      0.56      0.69       179\n",
      "     neutral       0.71      0.05      0.10       183\n",
      "  admiration       0.00      0.00      0.00       146\n",
      "       angry       0.81      0.37      0.51       105\n",
      "\n",
      "   micro avg       0.76      0.47      0.59      1054\n",
      "   macro avg       0.70      0.33      0.38      1054\n",
      "weighted avg       0.68      0.47      0.48      1054\n",
      " samples avg       0.62      0.50      0.53      1054\n",
      "\n"
     ]
    },
    {
     "name": "stderr",
     "output_type": "stream",
     "text": [
      "C:\\Users\\Rif010\\Anaconda3\\lib\\site-packages\\sklearn\\metrics\\_classification.py:1318: UndefinedMetricWarning: Precision and F-score are ill-defined and being set to 0.0 in samples with no predicted labels. Use `zero_division` parameter to control this behavior.\n",
      "  _warn_prf(average, modifier, msg_start, len(result))\n"
     ]
    }
   ],
   "source": [
    "from sklearn.metrics import classification_report\n",
    "\n",
    "output_label = ['sarcastic', 'positive', 'negative','neutral', 'admiration', 'angry']\n",
    "print(classification_report(y_test,br_prediction,target_names=output_label))\n"
   ]
  },
  {
   "cell_type": "code",
   "execution_count": 308,
   "metadata": {},
   "outputs": [],
   "source": [
    "from sklearn.model_selection import cross_validate, KFold\n",
    "clf = RandomForestClassifier(n_estimators=100)\n",
    "k_fold = KFold(n_splits = 10 , shuffle = False)\n",
    "k_fold\n",
    "scores = cross_validate(clf, X_train,y_train, cv = k_fold, scoring = ['accuracy'])"
   ]
  },
  {
   "cell_type": "code",
   "execution_count": 310,
   "metadata": {
    "scrolled": true
   },
   "outputs": [
    {
     "data": {
      "text/plain": [
       "array([0.47692308, 0.46015424, 0.46015424, 0.49357326, 0.4344473 ,\n",
       "       0.47043702, 0.47300771, 0.45244216, 0.49871465, 0.4781491 ])"
      ]
     },
     "execution_count": 310,
     "metadata": {},
     "output_type": "execute_result"
    }
   ],
   "source": [
    "scores['test_accuracy']"
   ]
  },
  {
   "cell_type": "code",
   "execution_count": 311,
   "metadata": {},
   "outputs": [
    {
     "data": {
      "text/plain": [
       "0.46980027684397874"
      ]
     },
     "execution_count": 311,
     "metadata": {},
     "output_type": "execute_result"
    }
   ],
   "source": [
    "scores['test_accuracy'].mean()"
   ]
  },
  {
   "cell_type": "code",
   "execution_count": 315,
   "metadata": {},
   "outputs": [
    {
     "data": {
      "text/plain": [
       "array([0.47179487, 0.45244216, 0.46015424, 0.49357326, 0.44987147,\n",
       "       0.47557841, 0.48329049, 0.48586118, 0.50128535, 0.48586118])"
      ]
     },
     "execution_count": 315,
     "metadata": {},
     "output_type": "execute_result"
    }
   ],
   "source": [
    "clf = BinaryRelevance(LinearSVC())\n",
    "k_fold = KFold(n_splits = 10 , shuffle = False)\n",
    "k_fold\n",
    "scores = cross_validate(clf, X_train,y_train, cv = k_fold, scoring = ['accuracy'])\n",
    "scores['test_accuracy']"
   ]
  },
  {
   "cell_type": "code",
   "execution_count": 316,
   "metadata": {},
   "outputs": [
    {
     "data": {
      "text/plain": [
       "0.4759712609584075"
      ]
     },
     "execution_count": 316,
     "metadata": {},
     "output_type": "execute_result"
    }
   ],
   "source": [
    "scores['test_accuracy'].mean()"
   ]
  },
  {
   "cell_type": "markdown",
   "metadata": {},
   "source": [
    "# Classifier Chain to preserve label correlation"
   ]
  },
  {
   "cell_type": "code",
   "execution_count": 320,
   "metadata": {},
   "outputs": [
    {
     "data": {
      "text/plain": [
       "{'Accuracy: ': 0.5416238437821171, 'Hamming-loss ': 0.13275094210346008}"
      ]
     },
     "execution_count": 320,
     "metadata": {},
     "output_type": "execute_result"
    }
   ],
   "source": [
    "def build_model(model,estimator,xtrain,ytrain,xtest,ytest):\n",
    "    \n",
    "    clf = estimator(model)\n",
    "    clf.fit(xtrain,ytrain)\n",
    "    clf_predictions = clf.predict(xtest)\n",
    "    \n",
    "    acc = accuracy_score(ytest,clf_predictions)\n",
    "    ham = hamming_loss(ytest,clf_predictions)\n",
    "    \n",
    "    result = {\"Accuracy: \":acc,\"Hamming-loss \":ham}\n",
    "    return result\n",
    "\n",
    "clf_chain_model = build_model(RandomForestClassifier(),ClassifierChain,X_train,y_train,X_test,y_test)\n",
    "clf_chain_model"
   ]
  },
  {
   "cell_type": "code",
   "execution_count": 322,
   "metadata": {},
   "outputs": [
    {
     "data": {
      "text/plain": [
       "{'accuracy:': 0.2356164383561644, 'hamming_score': 0.24771689497716895}"
      ]
     },
     "execution_count": 322,
     "metadata": {},
     "output_type": "execute_result"
    }
   ],
   "source": [
    "gnb = GaussianNB()\n",
    "clf_chain_model = build_model(gnb,ClassifierChain,X_train,y_train,X_test,y_test)\n",
    "clf_chain_model"
   ]
  },
  {
   "cell_type": "code",
   "execution_count": 391,
   "metadata": {},
   "outputs": [
    {
     "data": {
      "text/plain": [
       "{'fit_time': array([6.89681029, 6.42617702, 6.51280999, 6.32791185, 6.04387116,\n",
       "        5.33637643, 5.19335794, 5.52480268, 5.19553018, 5.25234222]),\n",
       " 'score_time': array([1.78857589, 1.03703928, 0.85052037, 0.70438457, 0.65816021,\n",
       "        0.60330415, 0.83618212, 0.61293483, 0.62856793, 1.18574905]),\n",
       " 'test_accuracy': array([0.38647343, 0.41545894, 0.43478261, 0.4188862 , 0.41646489,\n",
       "        0.41404358, 0.42857143, 0.40435835, 0.40920097, 0.45520581])}"
      ]
     },
     "execution_count": 391,
     "metadata": {},
     "output_type": "execute_result"
    }
   ],
   "source": [
    "clf = ClassifierChain(MultinomialNB())\n",
    "k_fold = KFold(n_splits = 10, shuffle = False)#, random_state = 24)\n",
    "k_fold\n",
    "scores = cross_validate(clf, X_train,y_train, cv = k_fold, scoring = ['accuracy'],error_score='raise')\n",
    "scores"
   ]
  },
  {
   "cell_type": "code",
   "execution_count": 327,
   "metadata": {},
   "outputs": [
    {
     "data": {
      "text/plain": [
       "array([0.5338809 , 0.48665298, 0.51334702, 0.53497942, 0.51851852,\n",
       "       0.56378601, 0.55144033, 0.5308642 ])"
      ]
     },
     "execution_count": 327,
     "metadata": {},
     "output_type": "execute_result"
    }
   ],
   "source": [
    "clf = ClassifierChain(svc)\n",
    "k_fold = KFold(n_splits = 8 , shuffle = False)\n",
    "k_fold\n",
    "scores = cross_validate(clf, X_train,y_train, cv = k_fold, scoring = ['accuracy'],error_score='raise')\n",
    "scores['test_accuracy']"
   ]
  },
  {
   "cell_type": "code",
   "execution_count": 328,
   "metadata": {},
   "outputs": [
    {
     "data": {
      "text/plain": [
       "0.5291836726071268"
      ]
     },
     "execution_count": 328,
     "metadata": {},
     "output_type": "execute_result"
    }
   ],
   "source": [
    "scores['test_accuracy'].mean()"
   ]
  },
  {
   "cell_type": "code",
   "execution_count": 325,
   "metadata": {},
   "outputs": [
    {
     "data": {
      "text/plain": [
       "{'Accuracy: ': 0.5837615621788284, 'Hamming-loss ': 0.12076053442959918}"
      ]
     },
     "execution_count": 325,
     "metadata": {},
     "output_type": "execute_result"
    }
   ],
   "source": [
    "svc = LinearSVC()\n",
    "clf_chain_model = build_model(svc,ClassifierChain,X_train,y_train,X_test,y_test)\n",
    "clf_chain_model"
   ]
  },
  {
   "cell_type": "markdown",
   "metadata": {},
   "source": [
    "\n",
    "# Label PowerSet"
   ]
  },
  {
   "cell_type": "code",
   "execution_count": 329,
   "metadata": {},
   "outputs": [
    {
     "data": {
      "text/plain": [
       "{'Accuracy: ': 0.49229188078108943, 'Hamming-loss ': 0.1510791366906475}"
      ]
     },
     "execution_count": 329,
     "metadata": {},
     "output_type": "execute_result"
    }
   ],
   "source": [
    "#Multi-Nomial NB\n",
    "clf_labelP_model = build_model(MultinomialNB(),LabelPowerset,X_train,y_train,X_test,y_test)\n",
    "clf_labelP_model"
   ]
  },
  {
   "cell_type": "code",
   "execution_count": 330,
   "metadata": {},
   "outputs": [
    {
     "data": {
      "text/plain": [
       "{'Accuracy: ': 0.5549845837615622, 'Hamming-loss ': 0.1344638574854402}"
      ]
     },
     "execution_count": 330,
     "metadata": {},
     "output_type": "execute_result"
    }
   ],
   "source": [
    "#Random Forest\n",
    "rf = RandomForestClassifier(n_estimators=150)\n",
    "clf_labelP_model = build_model(rf,LabelPowerset,X_train,y_train,X_test,y_test)\n",
    "clf_labelP_model"
   ]
  },
  {
   "cell_type": "code",
   "execution_count": 332,
   "metadata": {},
   "outputs": [
    {
     "data": {
      "text/plain": [
       "{'Accuracy: ': 0.579650565262076, 'Hamming-loss ': 0.12675573826652964}"
      ]
     },
     "execution_count": 332,
     "metadata": {},
     "output_type": "execute_result"
    }
   ],
   "source": [
    "#Linear SVC\n",
    "clf_labelP_model = build_model(svc,LabelPowerset,X_train,y_train,X_test,y_test)\n",
    "clf_labelP_model"
   ]
  },
  {
   "cell_type": "code",
   "execution_count": 339,
   "metadata": {},
   "outputs": [
    {
     "data": {
      "text/plain": [
       "LabelPowerset(classifier=LinearSVC(), require_dense=[True, True])"
      ]
     },
     "execution_count": 339,
     "metadata": {},
     "output_type": "execute_result"
    }
   ],
   "source": [
    "clf = LabelPowerset(svc)\n",
    "clf.fit(X_train,y_train)"
   ]
  },
  {
   "cell_type": "code",
   "execution_count": null,
   "metadata": {},
   "outputs": [],
   "source": []
  },
  {
   "cell_type": "code",
   "execution_count": 352,
   "metadata": {},
   "outputs": [
    {
     "data": {
      "text/plain": [
       "['happy']"
      ]
     },
     "execution_count": 352,
     "metadata": {},
     "output_type": "execute_result"
    }
   ],
   "source": [
    "#Test\n",
    "ex1 = ' if you are looking to purchase a scary toy that makes vacuum cleaner sucking sounds and plays the most annoying   arcade like   music  then this is for you. '\n",
    "ex1 = 'we are in love with your negative reviews'\n",
    "ex1 = clean_text(ex1)\n",
    "vec_example = tfidf.transform([ex1])\n",
    "sentiment(clf.predict(vec_example).toarray())"
   ]
  },
  {
   "cell_type": "code",
   "execution_count": null,
   "metadata": {},
   "outputs": [],
   "source": []
  },
  {
   "cell_type": "code",
   "execution_count": 357,
   "metadata": {},
   "outputs": [],
   "source": [
    "import joblib"
   ]
  },
  {
   "cell_type": "code",
   "execution_count": 358,
   "metadata": {},
   "outputs": [],
   "source": [
    "\n",
    "\n",
    "# Save Model\n",
    "LabelPowSVC_file = open(\"LabelPowSVC_file.pkl\",\"wb\")\n",
    "joblib.dump(clf,LabelPowSVC_file)\n",
    "LabelPowSVC_file.close()\n",
    "\n",
    "\n",
    "# Save Vectorizer\n",
    "tfidf_vectorizer_file = open(\"tfidf_vectorizer_review_file.pkl\",\"wb\")\n",
    "joblib.dump(tfidf,tfidf_vectorizer_file)\n",
    "tfidf_vectorizer_file.close()\n",
    "\n",
    "\n",
    "#### Adapted Algorithm\n",
    "from skmultilearn.adapt import MLkNN"
   ]
  },
  {
   "cell_type": "markdown",
   "metadata": {},
   "source": [
    "# Adaption"
   ]
  },
  {
   "cell_type": "code",
   "execution_count": 345,
   "metadata": {},
   "outputs": [],
   "source": [
    "#### Adapted Algorithm\n",
    "from skmultilearn.adapt import MLkNN"
   ]
  },
  {
   "cell_type": "code",
   "execution_count": 378,
   "metadata": {
    "collapsed": true
   },
   "outputs": [
    {
     "ename": "AttributeError",
     "evalue": "'DataFrame' object has no attribute 'getformat'",
     "output_type": "error",
     "traceback": [
      "\u001b[1;31m---------------------------------------------------------------------------\u001b[0m",
      "\u001b[1;31mAttributeError\u001b[0m                            Traceback (most recent call last)",
      "\u001b[1;32m<ipython-input-378-da27e3054819>\u001b[0m in \u001b[0;36m<module>\u001b[1;34m\u001b[0m\n\u001b[0;32m      1\u001b[0m \u001b[0mclassifier\u001b[0m \u001b[1;33m=\u001b[0m \u001b[0mMLkNN\u001b[0m\u001b[1;33m(\u001b[0m\u001b[0mk\u001b[0m\u001b[1;33m=\u001b[0m\u001b[1;36m100\u001b[0m\u001b[1;33m)\u001b[0m\u001b[1;33m\u001b[0m\u001b[1;33m\u001b[0m\u001b[0m\n\u001b[1;32m----> 2\u001b[1;33m \u001b[0mclassifier\u001b[0m\u001b[1;33m.\u001b[0m\u001b[0mfit\u001b[0m\u001b[1;33m(\u001b[0m\u001b[0mX_train\u001b[0m\u001b[1;33m,\u001b[0m\u001b[0my_train\u001b[0m\u001b[1;33m)\u001b[0m\u001b[1;33m\u001b[0m\u001b[1;33m\u001b[0m\u001b[0m\n\u001b[0m\u001b[0;32m      3\u001b[0m \u001b[0my_pred\u001b[0m \u001b[1;33m=\u001b[0m \u001b[0mclassifier\u001b[0m\u001b[1;33m.\u001b[0m\u001b[0mpredict\u001b[0m\u001b[1;33m(\u001b[0m\u001b[0mX_test\u001b[0m\u001b[1;33m)\u001b[0m\u001b[1;33m\u001b[0m\u001b[1;33m\u001b[0m\u001b[0m\n",
      "\u001b[1;32m~\\Anaconda3\\lib\\site-packages\\skmultilearn\\adapt\\mlknn.py\u001b[0m in \u001b[0;36mfit\u001b[1;34m(self, X, y)\u001b[0m\n\u001b[0;32m    210\u001b[0m         \"\"\"\n\u001b[0;32m    211\u001b[0m \u001b[1;33m\u001b[0m\u001b[0m\n\u001b[1;32m--> 212\u001b[1;33m         \u001b[0mself\u001b[0m\u001b[1;33m.\u001b[0m\u001b[0m_label_cache\u001b[0m \u001b[1;33m=\u001b[0m \u001b[0mget_matrix_in_format\u001b[0m\u001b[1;33m(\u001b[0m\u001b[0my\u001b[0m\u001b[1;33m,\u001b[0m \u001b[1;34m'lil'\u001b[0m\u001b[1;33m)\u001b[0m\u001b[1;33m\u001b[0m\u001b[1;33m\u001b[0m\u001b[0m\n\u001b[0m\u001b[0;32m    213\u001b[0m         \u001b[0mself\u001b[0m\u001b[1;33m.\u001b[0m\u001b[0m_num_instances\u001b[0m \u001b[1;33m=\u001b[0m \u001b[0mself\u001b[0m\u001b[1;33m.\u001b[0m\u001b[0m_label_cache\u001b[0m\u001b[1;33m.\u001b[0m\u001b[0mshape\u001b[0m\u001b[1;33m[\u001b[0m\u001b[1;36m0\u001b[0m\u001b[1;33m]\u001b[0m\u001b[1;33m\u001b[0m\u001b[1;33m\u001b[0m\u001b[0m\n\u001b[0;32m    214\u001b[0m         \u001b[0mself\u001b[0m\u001b[1;33m.\u001b[0m\u001b[0m_num_labels\u001b[0m \u001b[1;33m=\u001b[0m \u001b[0mself\u001b[0m\u001b[1;33m.\u001b[0m\u001b[0m_label_cache\u001b[0m\u001b[1;33m.\u001b[0m\u001b[0mshape\u001b[0m\u001b[1;33m[\u001b[0m\u001b[1;36m1\u001b[0m\u001b[1;33m]\u001b[0m\u001b[1;33m\u001b[0m\u001b[1;33m\u001b[0m\u001b[0m\n",
      "\u001b[1;32m~\\Anaconda3\\lib\\site-packages\\skmultilearn\\utils.py\u001b[0m in \u001b[0;36mget_matrix_in_format\u001b[1;34m(original_matrix, matrix_format)\u001b[0m\n\u001b[0;32m     33\u001b[0m         \u001b[1;32mreturn\u001b[0m \u001b[0mSPARSE_FORMAT_TO_CONSTRUCTOR\u001b[0m\u001b[1;33m[\u001b[0m\u001b[0mmatrix_format\u001b[0m\u001b[1;33m]\u001b[0m\u001b[1;33m(\u001b[0m\u001b[0moriginal_matrix\u001b[0m\u001b[1;33m)\u001b[0m\u001b[1;33m\u001b[0m\u001b[1;33m\u001b[0m\u001b[0m\n\u001b[0;32m     34\u001b[0m \u001b[1;33m\u001b[0m\u001b[0m\n\u001b[1;32m---> 35\u001b[1;33m     \u001b[1;32mif\u001b[0m \u001b[0moriginal_matrix\u001b[0m\u001b[1;33m.\u001b[0m\u001b[0mgetformat\u001b[0m\u001b[1;33m(\u001b[0m\u001b[1;33m)\u001b[0m \u001b[1;33m==\u001b[0m \u001b[0mmatrix_format\u001b[0m\u001b[1;33m:\u001b[0m\u001b[1;33m\u001b[0m\u001b[1;33m\u001b[0m\u001b[0m\n\u001b[0m\u001b[0;32m     36\u001b[0m         \u001b[1;32mreturn\u001b[0m \u001b[0moriginal_matrix\u001b[0m\u001b[1;33m\u001b[0m\u001b[1;33m\u001b[0m\u001b[0m\n\u001b[0;32m     37\u001b[0m \u001b[1;33m\u001b[0m\u001b[0m\n",
      "\u001b[1;32m~\\Anaconda3\\lib\\site-packages\\pandas\\core\\generic.py\u001b[0m in \u001b[0;36m__getattr__\u001b[1;34m(self, name)\u001b[0m\n\u001b[0;32m   5485\u001b[0m         ):\n\u001b[0;32m   5486\u001b[0m             \u001b[1;32mreturn\u001b[0m \u001b[0mself\u001b[0m\u001b[1;33m[\u001b[0m\u001b[0mname\u001b[0m\u001b[1;33m]\u001b[0m\u001b[1;33m\u001b[0m\u001b[1;33m\u001b[0m\u001b[0m\n\u001b[1;32m-> 5487\u001b[1;33m         \u001b[1;32mreturn\u001b[0m \u001b[0mobject\u001b[0m\u001b[1;33m.\u001b[0m\u001b[0m__getattribute__\u001b[0m\u001b[1;33m(\u001b[0m\u001b[0mself\u001b[0m\u001b[1;33m,\u001b[0m \u001b[0mname\u001b[0m\u001b[1;33m)\u001b[0m\u001b[1;33m\u001b[0m\u001b[1;33m\u001b[0m\u001b[0m\n\u001b[0m\u001b[0;32m   5488\u001b[0m \u001b[1;33m\u001b[0m\u001b[0m\n\u001b[0;32m   5489\u001b[0m     \u001b[1;32mdef\u001b[0m \u001b[0m__setattr__\u001b[0m\u001b[1;33m(\u001b[0m\u001b[0mself\u001b[0m\u001b[1;33m,\u001b[0m \u001b[0mname\u001b[0m\u001b[1;33m:\u001b[0m \u001b[0mstr\u001b[0m\u001b[1;33m,\u001b[0m \u001b[0mvalue\u001b[0m\u001b[1;33m)\u001b[0m \u001b[1;33m->\u001b[0m \u001b[1;32mNone\u001b[0m\u001b[1;33m:\u001b[0m\u001b[1;33m\u001b[0m\u001b[1;33m\u001b[0m\u001b[0m\n",
      "\u001b[1;31mAttributeError\u001b[0m: 'DataFrame' object has no attribute 'getformat'"
     ]
    }
   ],
   "source": [
    "classifier = MLkNN(k=100)\n",
    "classifier.fit(X_train,y_train)\n",
    "y_pred = classifier.predict(X_test)"
   ]
  },
  {
   "cell_type": "markdown",
   "metadata": {},
   "source": [
    "# OnevsRest"
   ]
  },
  {
   "cell_type": "code",
   "execution_count": 18,
   "metadata": {},
   "outputs": [],
   "source": [
    "from sklearn.linear_model import LogisticRegression\n",
    "from sklearn.pipeline import Pipeline\n",
    "from sklearn.multiclass import OneVsRestClassifier\n"
   ]
  },
  {
   "cell_type": "code",
   "execution_count": 371,
   "metadata": {},
   "outputs": [
    {
     "data": {
      "text/plain": [
       "Pipeline(steps=[('clf',\n",
       "                 OneVsRestClassifier(estimator=LogisticRegression(),\n",
       "                                     n_jobs=-1))])"
      ]
     },
     "execution_count": 371,
     "metadata": {},
     "output_type": "execute_result"
    }
   ],
   "source": [
    "logreg = Pipeline([('clf',OneVsRestClassifier(LogisticRegression(solver='sag'), n_jobs=-1)),])\n",
    "logreg.fit(X_train,y_train)"
   ]
  },
  {
   "cell_type": "code",
   "execution_count": 372,
   "metadata": {},
   "outputs": [],
   "source": [
    "ypred = logreg.predict(X_test)"
   ]
  },
  {
   "cell_type": "code",
   "execution_count": 373,
   "metadata": {},
   "outputs": [
    {
     "data": {
      "text/plain": [
       "0.47534246575342465"
      ]
     },
     "execution_count": 373,
     "metadata": {},
     "output_type": "execute_result"
    }
   ],
   "source": [
    "accuracy_score(y_test,y_pred)"
   ]
  },
  {
   "cell_type": "code",
   "execution_count": 374,
   "metadata": {},
   "outputs": [
    {
     "data": {
      "text/plain": [
       "0.13333333333333333"
      ]
     },
     "execution_count": 374,
     "metadata": {},
     "output_type": "execute_result"
    }
   ],
   "source": [
    "hamming_loss(y_test,y_pred)"
   ]
  },
  {
   "cell_type": "code",
   "execution_count": 375,
   "metadata": {},
   "outputs": [],
   "source": [
    "logreg = Pipeline([('rf',OneVsRestClassifier(LogisticRegression(solver='lbfgs'), n_jobs=-1)),])\n",
    "logreg.fit(X_train,y_train)\n",
    "\n",
    "ypred = logreg.predict(X_test)"
   ]
  },
  {
   "cell_type": "code",
   "execution_count": 376,
   "metadata": {},
   "outputs": [
    {
     "data": {
      "text/plain": [
       "0.47534246575342465"
      ]
     },
     "execution_count": 376,
     "metadata": {},
     "output_type": "execute_result"
    }
   ],
   "source": [
    "accuracy_score(y_test,y_pred)"
   ]
  },
  {
   "cell_type": "code",
   "execution_count": 377,
   "metadata": {},
   "outputs": [
    {
     "data": {
      "text/plain": [
       "0.13333333333333333"
      ]
     },
     "execution_count": 377,
     "metadata": {},
     "output_type": "execute_result"
    }
   ],
   "source": [
    "hamming_loss(y_test,y_pred)"
   ]
  }
 ],
 "metadata": {
  "kernelspec": {
   "display_name": "Python 3",
   "language": "python",
   "name": "python3"
  },
  "language_info": {
   "codemirror_mode": {
    "name": "ipython",
    "version": 3
   },
   "file_extension": ".py",
   "mimetype": "text/x-python",
   "name": "python",
   "nbconvert_exporter": "python",
   "pygments_lexer": "ipython3",
   "version": "3.7.4"
  }
 },
 "nbformat": 4,
 "nbformat_minor": 2
}
