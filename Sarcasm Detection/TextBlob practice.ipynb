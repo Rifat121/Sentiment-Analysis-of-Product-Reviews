{
 "cells": [
  {
   "cell_type": "code",
   "execution_count": 1,
   "metadata": {},
   "outputs": [
    {
     "name": "stdout",
     "output_type": "stream",
     "text": [
      "Requirement already satisfied: Textblob in c:\\users\\rif010\\anaconda3\\lib\\site-packages (0.17.1)\n",
      "Requirement already satisfied: nltk>=3.1; python_version >= \"3\" in c:\\users\\rif010\\anaconda3\\lib\\site-packages (from Textblob) (3.5)\n",
      "Requirement already satisfied: tqdm in c:\\users\\rif010\\anaconda3\\lib\\site-packages (from nltk>=3.1; python_version >= \"3\"->Textblob) (4.36.1)\n",
      "Requirement already satisfied: regex in c:\\users\\rif010\\anaconda3\\lib\\site-packages (from nltk>=3.1; python_version >= \"3\"->Textblob) (2021.11.10)\n",
      "Requirement already satisfied: joblib in c:\\users\\rif010\\anaconda3\\lib\\site-packages (from nltk>=3.1; python_version >= \"3\"->Textblob) (1.1.0)\n",
      "Requirement already satisfied: click in c:\\users\\rif010\\anaconda3\\lib\\site-packages (from nltk>=3.1; python_version >= \"3\"->Textblob) (7.0)\n",
      "Note: you may need to restart the kernel to use updated packages.\n"
     ]
    }
   ],
   "source": [
    "# pip install Textblob"
   ]
  },
  {
   "cell_type": "code",
   "execution_count": 3,
   "metadata": {},
   "outputs": [],
   "source": [
    "from textblob import TextBlob"
   ]
  },
  {
   "cell_type": "code",
   "execution_count": 4,
   "metadata": {},
   "outputs": [],
   "source": [
    "from textblob import Word\n",
    "from textblob.taggers import NLTKTagger\n",
    "nltk_tagger = NLTKTagger()"
   ]
  },
  {
   "cell_type": "code",
   "execution_count": 21,
   "metadata": {},
   "outputs": [],
   "source": [
    "myword = \" the battery is very bad \""
   ]
  },
  {
   "cell_type": "code",
   "execution_count": 22,
   "metadata": {},
   "outputs": [
    {
     "name": "stdout",
     "output_type": "stream",
     "text": [
      "Sentiment(polarity=-0.9099999999999998, subjectivity=0.8666666666666667)\n"
     ]
    }
   ],
   "source": [
    "output = TextBlob(myword)\n",
    "print(output.sentiment)"
   ]
  },
  {
   "cell_type": "code",
   "execution_count": 62,
   "metadata": {},
   "outputs": [],
   "source": [
    "from nltk.corpus import stopwords\n",
    "\n",
    "stopwords = stopwords.words('english')\n",
    "\n",
    "rem = ['not', 'ain', 'aren', \"aren't\", 'couldn', \"couldn't\", 'didn', \"didn't\", 'doesn', \"doesn't\", 'hadn', \"hadn't\", 'hasn', \n",
    "       \"hasn't\", 'haven', \"haven't\", 'isn', \"isn't\", 'ma', 'mightn', \"mightn't\", 'mustn', \"mustn't\", 'needn', \"needn't\", 'shan', \n",
    "       \"shan't\", 'shouldn', \"shouldn't\", 'wasn', \"wasn't\", 'weren', \"weren't\", 'won', \"won't\", 'wouldn', \"wouldn't\", 'don', \"don't\", \n",
    "       'just', 'too', 'very', 'no', 'nor', 'only', 'own', 'same', 'again', 'against', 'but',]\n",
    "for s in rem:\n",
    "    stopwords.remove(s)"
   ]
  },
  {
   "cell_type": "code",
   "execution_count": null,
   "metadata": {},
   "outputs": [],
   "source": [
    "# def slicing(w):\n",
    "#     length = len(w)\n",
    "    "
   ]
  },
  {
   "cell_type": "code",
   "execution_count": 77,
   "metadata": {},
   "outputs": [],
   "source": [
    "# w = 'You just broke my car window.'\n",
    "# Great job.'\n",
    "import re\n",
    "def predict(w):\n",
    "    w = re.sub('[^a-zA-Z]', ' ', w)\n",
    "    w = w.lower()\n",
    "    w = w.split()\n",
    "    polarity =[]\n",
    "    for i in w:\n",
    "        if not i in set(stopwords):\n",
    "            output = TextBlob(i)\n",
    "            print(i,output.sentiment)\n",
    "            temp = output.sentiment.polarity\n",
    "            polarity.append(temp)\n",
    "            \n",
    "    avg = sum(polarity)/len(polarity)\n",
    "    return avg,polarity\n",
    "    "
   ]
  },
  {
   "cell_type": "code",
   "execution_count": 78,
   "metadata": {},
   "outputs": [
    {
     "name": "stdout",
     "output_type": "stream",
     "text": [
      "perfect Sentiment(polarity=1.0, subjectivity=1.0)\n",
      "reviews Sentiment(polarity=0.0, subjectivity=0.0)\n",
      "nobody Sentiment(polarity=0.0, subjectivity=0.0)\n",
      "noticed Sentiment(polarity=0.0, subjectivity=0.0)\n",
      "size Sentiment(polarity=0.0, subjectivity=0.0)\n",
      "issue Sentiment(polarity=0.0, subjectivity=0.0)\n",
      "(0.16666666666666666, [1.0, 0.0, 0.0, 0.0, 0.0, 0.0])\n"
     ]
    }
   ],
   "source": [
    "p = 'Perfect! Out of 9400 reviews nobody noticed the size issue with these'\n",
    "print(predict(p))\n"
   ]
  },
  {
   "cell_type": "code",
   "execution_count": 79,
   "metadata": {},
   "outputs": [
    {
     "name": "stdout",
     "output_type": "stream",
     "text": [
      "sarcastic Sentiment(polarity=0.1, subjectivity=0.8)\n",
      "comment Sentiment(polarity=0.0, subjectivity=0.0)\n",
      "very Sentiment(polarity=0.2, subjectivity=0.3)\n",
      "easy Sentiment(polarity=0.43333333333333335, subjectivity=0.8333333333333334)\n",
      "detect Sentiment(polarity=0.0, subjectivity=0.0)\n",
      "(0.14666666666666667, [0.1, 0.0, 0.2, 0.43333333333333335, 0.0])\n"
     ]
    }
   ],
   "source": [
    "p ='Sarcastic comment is very easy to detect.'\n",
    "print(predict(p))"
   ]
  },
  {
   "cell_type": "code",
   "execution_count": 80,
   "metadata": {},
   "outputs": [
    {
     "name": "stdout",
     "output_type": "stream",
     "text": [
      "product Sentiment(polarity=0.0, subjectivity=0.0)\n",
      "very Sentiment(polarity=0.2, subjectivity=0.3)\n",
      "good Sentiment(polarity=0.7, subjectivity=0.6000000000000001)\n",
      "(0.3, [0.0, 0.2, 0.7])\n"
     ]
    }
   ],
   "source": [
    "p ='The product was very good'\n",
    "print(predict(p))"
   ]
  },
  {
   "cell_type": "code",
   "execution_count": 81,
   "metadata": {},
   "outputs": [
    {
     "name": "stdout",
     "output_type": "stream",
     "text": [
      "none Sentiment(polarity=0.0, subjectivity=0.0)\n",
      "first Sentiment(polarity=0.25, subjectivity=0.3333333333333333)\n",
      "eight Sentiment(polarity=0.0, subjectivity=0.0)\n",
      "batteries Sentiment(polarity=0.0, subjectivity=0.0)\n",
      "opened Sentiment(polarity=0.0, subjectivity=0.0)\n",
      "worked Sentiment(polarity=0.0, subjectivity=0.0)\n",
      "tested Sentiment(polarity=0.0, subjectivity=0.0)\n",
      "batteries Sentiment(polarity=0.0, subjectivity=0.0)\n",
      "confirm Sentiment(polarity=0.0, subjectivity=0.0)\n",
      "battery Sentiment(polarity=0.0, subjectivity=0.0)\n",
      "problem Sentiment(polarity=0.0, subjectivity=0.0)\n",
      "confirmed Sentiment(polarity=0.4, subjectivity=1.0)\n",
      "wow Sentiment(polarity=0.1, subjectivity=1.0)\n",
      "(0.057692307692307696, [0.0, 0.25, 0.0, 0.0, 0.0, 0.0, 0.0, 0.0, 0.0, 0.0, 0.0, 0.4, 0.1])\n"
     ]
    }
   ],
   "source": [
    "p ='None of first eight batteries I opened worked. Tested other batteries to confirm was a battery problem. Confirmed!!!Wow.'\n",
    "print(predict(p))"
   ]
  },
  {
   "cell_type": "markdown",
   "metadata": {},
   "source": []
  },
  {
   "cell_type": "code",
   "execution_count": 94,
   "metadata": {},
   "outputs": [],
   "source": [
    "\n",
    "        \n",
    "        "
   ]
  },
  {
   "cell_type": "code",
   "execution_count": 95,
   "metadata": {
    "collapsed": true
   },
   "outputs": [
    {
     "ename": "TypeError",
     "evalue": "int() argument must be a string, a bytes-like object or a number, not 'list'",
     "output_type": "error",
     "traceback": [
      "\u001b[1;31m---------------------------------------------------------------------------\u001b[0m",
      "\u001b[1;31mTypeError\u001b[0m                                 Traceback (most recent call last)",
      "\u001b[1;32m<ipython-input-95-39a9f6957788>\u001b[0m in \u001b[0;36m<module>\u001b[1;34m\u001b[0m\n\u001b[0;32m      1\u001b[0m \u001b[0mp\u001b[0m \u001b[1;33m=\u001b[0m\u001b[1;34m'None of first eight batteries I opened worked. Tested other batteries to confirm was a battery problem. Confirmed!!!Wow.'\u001b[0m\u001b[1;33m\u001b[0m\u001b[1;33m\u001b[0m\u001b[0m\n\u001b[1;32m----> 2\u001b[1;33m \u001b[0mprint\u001b[0m\u001b[1;33m(\u001b[0m\u001b[0mclean_senti\u001b[0m\u001b[1;33m(\u001b[0m\u001b[0mp\u001b[0m\u001b[1;33m)\u001b[0m\u001b[1;33m)\u001b[0m\u001b[1;33m\u001b[0m\u001b[1;33m\u001b[0m\u001b[0m\n\u001b[0m",
      "\u001b[1;32m<ipython-input-94-16e43fc81692>\u001b[0m in \u001b[0;36mclean_senti\u001b[1;34m(w)\u001b[0m\n\u001b[0;32m      7\u001b[0m     \u001b[1;32mfor\u001b[0m \u001b[0mi\u001b[0m \u001b[1;32min\u001b[0m \u001b[0mw\u001b[0m\u001b[1;33m:\u001b[0m\u001b[1;33m\u001b[0m\u001b[1;33m\u001b[0m\u001b[0m\n\u001b[0;32m      8\u001b[0m         \u001b[1;32mif\u001b[0m \u001b[1;32mnot\u001b[0m \u001b[0mi\u001b[0m \u001b[1;32min\u001b[0m \u001b[0mstopwords\u001b[0m\u001b[1;33m:\u001b[0m\u001b[1;33m\u001b[0m\u001b[1;33m\u001b[0m\u001b[0m\n\u001b[1;32m----> 9\u001b[1;33m             \u001b[1;32mif\u001b[0m\u001b[1;33m(\u001b[0m\u001b[0mint\u001b[0m\u001b[1;33m(\u001b[0m\u001b[0msenticnet\u001b[0m\u001b[1;33m[\u001b[0m\u001b[0mi\u001b[0m\u001b[1;33m]\u001b[0m\u001b[1;33m)\u001b[0m\u001b[1;33m>\u001b[0m\u001b[1;36m0\u001b[0m\u001b[1;33m)\u001b[0m\u001b[1;33m:\u001b[0m\u001b[1;33m\u001b[0m\u001b[1;33m\u001b[0m\u001b[0m\n\u001b[0m\u001b[0;32m     10\u001b[0m                 \u001b[0mprint\u001b[0m\u001b[1;33m(\u001b[0m\u001b[0mi\u001b[0m\u001b[1;33m,\u001b[0m\u001b[0msenticnet\u001b[0m\u001b[1;33m[\u001b[0m\u001b[0mi\u001b[0m\u001b[1;33m]\u001b[0m\u001b[1;33m[\u001b[0m\u001b[1;36m4\u001b[0m\u001b[1;33m]\u001b[0m\u001b[1;33m,\u001b[0m\u001b[0msenticnet\u001b[0m\u001b[1;33m[\u001b[0m\u001b[0mi\u001b[0m\u001b[1;33m]\u001b[0m\u001b[1;33m[\u001b[0m\u001b[1;36m5\u001b[0m\u001b[1;33m]\u001b[0m\u001b[1;33m,\u001b[0m\u001b[0msenticnet\u001b[0m\u001b[1;33m[\u001b[0m\u001b[0mi\u001b[0m\u001b[1;33m]\u001b[0m\u001b[1;33m[\u001b[0m\u001b[1;36m7\u001b[0m\u001b[1;33m]\u001b[0m\u001b[1;33m)\u001b[0m\u001b[1;33m\u001b[0m\u001b[1;33m\u001b[0m\u001b[0m\n\u001b[0;32m     11\u001b[0m                 \u001b[0mprint\u001b[0m\u001b[1;33m(\u001b[0m\u001b[1;34m'\\n'\u001b[0m\u001b[1;33m)\u001b[0m\u001b[1;33m\u001b[0m\u001b[1;33m\u001b[0m\u001b[0m\n",
      "\u001b[1;31mTypeError\u001b[0m: int() argument must be a string, a bytes-like object or a number, not 'list'"
     ]
    }
   ],
   "source": [
    "p ='None of first eight batteries I opened worked. Tested other batteries to confirm was a battery problem. Confirmed!!!Wow.'\n",
    "print(clean_senti(p))"
   ]
  },
  {
   "cell_type": "code",
   "execution_count": null,
   "metadata": {},
   "outputs": [],
   "source": []
  }
 ],
 "metadata": {
  "kernelspec": {
   "display_name": "Python 3",
   "language": "python",
   "name": "python3"
  },
  "language_info": {
   "codemirror_mode": {
    "name": "ipython",
    "version": 3
   },
   "file_extension": ".py",
   "mimetype": "text/x-python",
   "name": "python",
   "nbconvert_exporter": "python",
   "pygments_lexer": "ipython3",
   "version": "3.7.4"
  }
 },
 "nbformat": 4,
 "nbformat_minor": 2
}
